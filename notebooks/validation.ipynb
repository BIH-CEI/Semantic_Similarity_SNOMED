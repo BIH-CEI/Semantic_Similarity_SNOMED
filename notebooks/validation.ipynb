{
 "cells": [
  {
   "cell_type": "code",
   "execution_count": null,
   "id": "206cd8a6",
   "metadata": {},
   "outputs": [],
   "source": []
  },
  {
   "cell_type": "markdown",
   "id": "6fc6cced",
   "metadata": {},
   "source": [
    "New File for validating the existing snomed concepts \n"
   ]
  },
  {
   "cell_type": "code",
   "execution_count": null,
   "id": "a13182b2",
   "metadata": {},
   "outputs": [],
   "source": "def load_active_concepts_from_rf2(concept_file_path):\n      \"\"\"Load active concept IDs from SNOMED CT Concept file\"\"\"  \n      print(f\"Loading active concepts from: {concept_file_path}\")\n\n      active_concepts = set()\n\n      with open(concept_file_path, 'r', encoding='utf-8') as f:\n          header = f.readline()  # Skip header\n\n          for line_num, line in enumerate(f, 2):\n              parts = line.strip().split('\\t')\n\n              if len(parts) >= 3:\n                  concept_id = parts[0]\n                  active = parts[2]\n\n                  if active == '1':  # Active concepts only\n                      active_concepts.add(concept_id)\n\n              if line_num % 500000 == 0:\n                  print(f\"  Processed {line_num:,} lines, found {len(active_concepts):,} active concepts\")\n\n      print(f\"Before: Loading SNOMED concept file\")\n      print(f\"After: {len(active_concepts):,} active concepts loaded\")\n      return active_concepts\n\n# Path to your SNOMED concept file\nsnomed_dir = \"../data/raw/SnomedCT_InternationalRF2_PRODUCTION_20250201T120000Z/Snapshot/Terminology\"\nconcept_file = f\"{snomed_dir}/sct2_Concept_Snapshot_INT_20250201.txt\"\n\n  # Load active SNOMED concepts\nactive_snomed_concepts = load_active_concepts_from_rf2(concept_file)\n\n\n# Load concepts from exported file for validation\nconcept_file_path = \"../data/interim/obds_unique_concepts_for_validation_20250804_150736.txt\"\n\nprint(\"=== LOADING EXPORTED CONCEPTS FOR VALIDATION ===\")\nwith open(concept_file_path, 'r') as f:\n      obds_concepts = [line.strip() for line in f if line.strip()]\n\nprint(f\"Before: Loading concept file\")\nprint(f\"After: {len(obds_concepts)} concepts loaded from file\")\n\n\n  # Validate your oBDS concepts\nvalid_in_snomed = []\nmissing_from_snomed = []\n\n\n\n\nfor concept_id in sorted(obds_concepts):  # Your cleaned concept list\n      if concept_id in active_snomed_concepts:\n          valid_in_snomed.append(concept_id)\n      else:\n          missing_from_snomed.append(concept_id)\n\nprint(f\"Before: {len(obds_concepts)} oBDS concepts to validate\")\nprint(f\"After: {len(valid_in_snomed)} valid in SNOMED, {len(missing_from_snomed)} missing\")\n\nif missing_from_snomed:\n      print(f\"Missing concepts: {missing_from_snomed[:10]}\")"
  },
  {
   "cell_type": "code",
   "execution_count": null,
   "id": "18fa74a2",
   "metadata": {},
   "outputs": [
    {
     "name": "stdout",
     "output_type": "stream",
     "text": [
      "=== SCIENTIFIC NOTATION LOCATIONS ===\n"
     ]
    }
   ],
   "source": [
    "# Missing concepts: \n",
    "# Manually checked, neither as active concept in latest international nor german version\n",
    "# 20558004 Adverse effect of radiation therapy (disorder) -> inactivated in 2024-07-01 -> after end of mapping period\n",
    "# 394617004 |Result (navigational concept)| -> inactivated in 2024-05-01 -> after end of mapping period\n",
    "# Seems to be issue with scientific notation conversion imprecision 911753521000003968 turned into 911753521000004108 due to some float error  - > fixed 3 concepts by manually mapping them\n",
    "\n",
    "\n",
    "print(\"=== SCIENTIFIC NOTATION LOCATIONS ===\")\n",
    "\n"
   ]
  },
  {
   "cell_type": "code",
   "execution_count": null,
   "id": "50c75f4f",
   "metadata": {},
   "outputs": [],
   "source": []
  }
 ],
 "metadata": {
  "kernelspec": {
   "display_name": "base",
   "language": "python",
   "name": "python3"
  },
  "language_info": {
   "codemirror_mode": {
    "name": "ipython",
    "version": 3
   },
   "file_extension": ".py",
   "mimetype": "text/x-python",
   "name": "python",
   "nbconvert_exporter": "python",
   "pygments_lexer": "ipython3",
   "version": "3.11.5"
  }
 },
 "nbformat": 4,
 "nbformat_minor": 5
}